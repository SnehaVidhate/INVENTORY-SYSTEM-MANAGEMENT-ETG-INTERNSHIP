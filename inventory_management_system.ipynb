{
  "nbformat": 4,
  "nbformat_minor": 0,
  "metadata": {
    "colab": {
      "name": "inventory_management_system",
      "provenance": [],
      "collapsed_sections": []
    },
    "kernelspec": {
      "name": "python3",
      "display_name": "Python 3"
    },
    "language_info": {
      "name": "python"
    }
  },
  "cells": [
    {
      "cell_type": "code",
      "metadata": {
        "id": "zBt033OZKI2E"
      },
      "source": [
        "import json\n",
        "fd=open(\"record_json.ipynb\",\"r\")\n",
        "r=fd.read()\n",
        "fd.close()"
      ],
      "execution_count": 8,
      "outputs": []
    },
    {
      "cell_type": "code",
      "metadata": {
        "id": "TLSOEhnYNufD"
      },
      "source": [
        "record=json.dumps(r)"
      ],
      "execution_count": 9,
      "outputs": []
    },
    {
      "cell_type": "code",
      "metadata": {
        "colab": {
          "base_uri": "https://localhost:8080/",
          "height": 171
        },
        "id": "ElkmEq7ZaJY4",
        "outputId": "6166f1bc-ac8f-4209-a195-9a04f3a12d5d"
      },
      "source": [
        "record"
      ],
      "execution_count": 10,
      "outputs": [
        {
          "output_type": "execute_result",
          "data": {
            "application/vnd.google.colaboratory.intrinsic+json": {
              "type": "string"
            },
            "text/plain": [
              "'\"{\\\\\"101\\\\\": {\\\\\"item\\\\\": \\\\\"dairymilk(s)\\\\\", \\\\\"price\\\\\": 20, \\\\\"quantity\\\\\": 10, \\\\\"category\\\\\": \\\\\"chocolate\\\\\", \\\\\"rating\\\\\": 7}, \\\\\"102\\\\\": {\\\\\"item\\\\\": \\\\\"dairymilk(m)\\\\\", \\\\\"price\\\\\": 40, \\\\\"quantity\\\\\": 100, \\\\\"category\\\\\": \\\\\"chocolate\\\\\", \\\\\"rating\\\\\": 8}, \\\\\"103\\\\\": {\\\\\"item\\\\\": \\\\\"dairymilk(l)\\\\\", \\\\\"price\\\\\": 100, \\\\\"quantity\\\\\": 50, \\\\\"category\\\\\": \\\\\"chocolate\\\\\", \\\\\"rating\\\\\": 8}, \\\\\"104\\\\\": {\\\\\"item\\\\\": \\\\\"barone(s)\\\\\", \\\\\"price\\\\\": 10, \\\\\"quantity\\\\\": 200, \\\\\"category\\\\\": \\\\\"chocolate\\\\\", \\\\\"rating\\\\\": 6}, \\\\\"105\\\\\": {\\\\\"item\\\\\": \\\\\"barone(m)\\\\\", \\\\\"price\\\\\": 40, \\\\\"quantity\\\\\": 75, \\\\\"category\\\\\": \\\\\"chocolate\\\\\", \\\\\"rating\\\\\": 7}, \\\\\"106\\\\\": {\\\\\"item\\\\\": \\\\\"barone(l)\\\\\", \\\\\"price\\\\\": 80, \\\\\"quantity\\\\\": 50, \\\\\"category\\\\\": \\\\\"chocolate\\\\\", \\\\\"rating\\\\\": 8}, \\\\\"107\\\\\": {\\\\\"item\\\\\": \\\\\"clinicplus\\\\\", \\\\\"price\\\\\": 1, \\\\\"quantity\\\\\": 500, \\\\\"category\\\\\": \\\\\"shampoo\\\\\", \\\\\"rating\\\\\": 6}, \\\\\"108\\\\\": {\\\\\"item\\\\\": \\\\\"clinicplusbottle\\\\\", \\\\\"price\\\\\": 150, \\\\\"quantity\\\\\": 50, \\\\\"category\\\\\": \\\\\"shampoo\\\\\", \\\\\"rating\\\\\": 6}, \\\\\"109\\\\\": {\\\\\"item\\\\\": \\\\\"dettolsoap\\\\\", \\\\\"price\\\\\": 20, \\\\\"quantity\\\\\": 100, \\\\\"category\\\\\": \\\\\"soap\\\\\", \\\\\"rating\\\\\": 9}, \\\\\"110\\\\\": {\\\\\"item\\\\\": \\\\\"dettolhandwash\\\\\", \\\\\"price\\\\\": 80, \\\\\"quantity\\\\\": 30, \\\\\"category\\\\\": \\\\\"handwash\\\\\", \\\\\"rating\\\\\": 9}}\"'"
            ]
          },
          "metadata": {},
          "execution_count": 10
        }
      ]
    },
    {
      "cell_type": "code",
      "metadata": {
        "id": "NQWsQXm2awlj"
      },
      "source": [
        "record=json.loads(r)\n"
      ],
      "execution_count": 16,
      "outputs": []
    },
    {
      "cell_type": "code",
      "metadata": {
        "colab": {
          "base_uri": "https://localhost:8080/"
        },
        "id": "-AlWOqRZa--w",
        "outputId": "64e68f0c-de72-4bef-f52f-558178cae8cb"
      },
      "source": [
        "record"
      ],
      "execution_count": 15,
      "outputs": [
        {
          "output_type": "execute_result",
          "data": {
            "text/plain": [
              "{'101': {'category': 'chocolate',\n",
              "  'item': 'dairymilk(s)',\n",
              "  'price': 20,\n",
              "  'quantity': 10,\n",
              "  'rating': 7},\n",
              " '102': {'category': 'chocolate',\n",
              "  'item': 'dairymilk(m)',\n",
              "  'price': 40,\n",
              "  'quantity': 100,\n",
              "  'rating': 8},\n",
              " '103': {'category': 'chocolate',\n",
              "  'item': 'dairymilk(l)',\n",
              "  'price': 100,\n",
              "  'quantity': 50,\n",
              "  'rating': 8},\n",
              " '104': {'category': 'chocolate',\n",
              "  'item': 'barone(s)',\n",
              "  'price': 10,\n",
              "  'quantity': 200,\n",
              "  'rating': 6},\n",
              " '105': {'category': 'chocolate',\n",
              "  'item': 'barone(m)',\n",
              "  'price': 40,\n",
              "  'quantity': 75,\n",
              "  'rating': 7},\n",
              " '106': {'category': 'chocolate',\n",
              "  'item': 'barone(l)',\n",
              "  'price': 80,\n",
              "  'quantity': 50,\n",
              "  'rating': 8},\n",
              " '107': {'category': 'shampoo',\n",
              "  'item': 'clinicplus',\n",
              "  'price': 1,\n",
              "  'quantity': 500,\n",
              "  'rating': 6},\n",
              " '108': {'category': 'shampoo',\n",
              "  'item': 'clinicplusbottle',\n",
              "  'price': 150,\n",
              "  'quantity': 50,\n",
              "  'rating': 6},\n",
              " '109': {'category': 'soap',\n",
              "  'item': 'dettolsoap',\n",
              "  'price': 20,\n",
              "  'quantity': 100,\n",
              "  'rating': 9},\n",
              " '110': {'category': 'handwash',\n",
              "  'item': 'dettolhandwash',\n",
              "  'price': 80,\n",
              "  'quantity': 30,\n",
              "  'rating': 9}}"
            ]
          },
          "metadata": {},
          "execution_count": 15
        }
      ]
    },
    {
      "cell_type": "code",
      "metadata": {
        "colab": {
          "base_uri": "https://localhost:8080/"
        },
        "id": "hMIeUFlddaVt",
        "outputId": "9e7b38d2-12a2-4385-af63-1fa89325958d"
      },
      "source": [
        "prod_id=str(input(\"ENTER THE PRODUCT ID: \"))\n",
        "category=str(input(\"ENTER THE TYPE OF ITEM: \"))\n",
        "item=str(input(\"ENTER THE ITEM NAME: \"))\n",
        "price=int(input(\"ENTER THE PRICE OF ITEM: \"))\n",
        "quantity=int(input(\"ENTER THE QUANTITY OF ITEM: \"))\n",
        "rating=int(input(\"ENTER THE RATING: \"))\n"
      ],
      "execution_count": 24,
      "outputs": [
        {
          "name": "stdout",
          "output_type": "stream",
          "text": [
            "ENTER THE PRODUCT ID: 111\n",
            "ENTER THE TYPE OF ITEM: electronics\n",
            "ENTER THE ITEM NAME: Cells\n",
            "ENTER THE PRICE OF ITEM: 60\n",
            "ENTER THE QUANTITY OF ITEM: 2\n",
            "ENTER THE RATING: 6\n"
          ]
        }
      ]
    },
    {
      "cell_type": "code",
      "metadata": {
        "id": "K55UI4MLi66V"
      },
      "source": [
        "prod_id:{\"catergory\":category,\"item\":item,\"price\":price,\"quantity\": quantity,\"rating\": rating}"
      ],
      "execution_count": 26,
      "outputs": []
    },
    {
      "cell_type": "code",
      "metadata": {
        "id": "i0E7mEotlkIy"
      },
      "source": [
        "record[prod_id]={\"category\":category,\"item\": item,\"price\":price,\"quantity\":quantity,\"rating\":rating}"
      ],
      "execution_count": 27,
      "outputs": []
    },
    {
      "cell_type": "code",
      "metadata": {
        "colab": {
          "base_uri": "https://localhost:8080/"
        },
        "id": "i9w8262LlkNC",
        "outputId": "c1b4197b-e768-4e31-94e4-21b302e0465a"
      },
      "source": [
        "js=json.dumps(record)\n",
        "fd=open(\"record_json.ipynb\",\"w\")\n",
        "fd.write(js)\n",
        "fd.close"
      ],
      "execution_count": 28,
      "outputs": [
        {
          "output_type": "execute_result",
          "data": {
            "text/plain": [
              "<function TextIOWrapper.close>"
            ]
          },
          "metadata": {},
          "execution_count": 28
        }
      ]
    },
    {
      "cell_type": "code",
      "metadata": {
        "colab": {
          "base_uri": "https://localhost:8080/"
        },
        "id": "CsMjA3J7mnHl",
        "outputId": "f89bf1ea-bf27-4c0f-f103-02e97a3c39db"
      },
      "source": [
        "record"
      ],
      "execution_count": 29,
      "outputs": [
        {
          "output_type": "execute_result",
          "data": {
            "text/plain": [
              "{'101': {'category': 'chocolate',\n",
              "  'item': 'dairymilk(s)',\n",
              "  'price': 20,\n",
              "  'quantity': 10,\n",
              "  'rating': 7},\n",
              " '102': {'category': 'chocolate',\n",
              "  'item': 'dairymilk(m)',\n",
              "  'price': 40,\n",
              "  'quantity': 100,\n",
              "  'rating': 8},\n",
              " '103': {'category': 'chocolate',\n",
              "  'item': 'dairymilk(l)',\n",
              "  'price': 100,\n",
              "  'quantity': 50,\n",
              "  'rating': 8},\n",
              " '104': {'category': 'chocolate',\n",
              "  'item': 'barone(s)',\n",
              "  'price': 10,\n",
              "  'quantity': 200,\n",
              "  'rating': 6},\n",
              " '105': {'category': 'chocolate',\n",
              "  'item': 'barone(m)',\n",
              "  'price': 40,\n",
              "  'quantity': 75,\n",
              "  'rating': 7},\n",
              " '106': {'category': 'chocolate',\n",
              "  'item': 'barone(l)',\n",
              "  'price': 80,\n",
              "  'quantity': 50,\n",
              "  'rating': 8},\n",
              " '107': {'category': 'shampoo',\n",
              "  'item': 'clinicplus',\n",
              "  'price': 1,\n",
              "  'quantity': 500,\n",
              "  'rating': 6},\n",
              " '108': {'category': 'shampoo',\n",
              "  'item': 'clinicplusbottle',\n",
              "  'price': 150,\n",
              "  'quantity': 50,\n",
              "  'rating': 6},\n",
              " '109': {'category': 'soap',\n",
              "  'item': 'dettolsoap',\n",
              "  'price': 20,\n",
              "  'quantity': 100,\n",
              "  'rating': 9},\n",
              " '110': {'category': 'handwash',\n",
              "  'item': 'dettolhandwash',\n",
              "  'price': 80,\n",
              "  'quantity': 30,\n",
              "  'rating': 9},\n",
              " '111': {'category': 'electronics',\n",
              "  'item': 'Cells',\n",
              "  'price': 60,\n",
              "  'quantity': 2,\n",
              "  'rating': 6}}"
            ]
          },
          "metadata": {},
          "execution_count": 29
        }
      ]
    },
    {
      "cell_type": "code",
      "metadata": {
        "id": "kQSXmTAsmxFf"
      },
      "source": [
        ""
      ],
      "execution_count": null,
      "outputs": []
    },
    {
      "cell_type": "markdown",
      "metadata": {
        "id": "6FO3vZZXnE20"
      },
      "source": [
        "**PURCAHSE**\n"
      ]
    },
    {
      "cell_type": "markdown",
      "metadata": {
        "id": "LfG4tVegwjQX"
      },
      "source": [
        "If the item is in sufficient ammount\n",
        "\n",
        "\n"
      ]
    },
    {
      "cell_type": "code",
      "metadata": {
        "colab": {
          "base_uri": "https://localhost:8080/"
        },
        "id": "2IjxkmtRnJD2",
        "outputId": "ed26a1ac-895b-4963-8f56-ed4fc5f6a9c2"
      },
      "source": [
        "ui_prod=str(input(\"ENTER THE PRODUCT ID:  \"))\n",
        "ui_quant=int(input(\"ENTER THE QUANTITY OF PRODUCT: \"))\n"
      ],
      "execution_count": 49,
      "outputs": [
        {
          "name": "stdout",
          "output_type": "stream",
          "text": [
            "ENTER THE PRODUCT ID:  111\n",
            "ENTER THE QUANTITY OF PRODUCT: 2\n"
          ]
        }
      ]
    },
    {
      "cell_type": "code",
      "metadata": {
        "colab": {
          "base_uri": "https://localhost:8080/"
        },
        "id": "rvuMIbbyq96e",
        "outputId": "002bc05a-dc46-4df6-a86e-140b4e8de1cf"
      },
      "source": [
        "if ui_quant <= record[ui_prod][\"quantity\"]:\n",
        " print(\"Product name is : \",record[ui_prod][\"item\"])\n",
        " print(\"Price of the produc is: \",record[ui_prod][\"price\"])\n",
        " print(\"*************** YOUR TOTAL AMMOUNT TO PAY IS : \",record[ui_prod][\"price\"]*ui_quant,\"***********\")\n",
        "else:\n",
        "  print(ui_quant,\" number of items are not available please select number of items less than or equal to \", record[ui_prod][\"quantity\"])\n"
      ],
      "execution_count": 50,
      "outputs": [
        {
          "output_type": "stream",
          "name": "stdout",
          "text": [
            "Product name is :  Cells\n",
            "Price of the produc is:  60\n",
            "*************** YOUR TOTAL AMMOUNT TO PAY IS :  120 ***********\n"
          ]
        }
      ]
    },
    {
      "cell_type": "markdown",
      "metadata": {
        "id": "yRGvN0aiwvdk"
      },
      "source": [
        "*If the prodict is **not** in sufficient ammount *\n",
        "\n",
        "\n",
        "---\n",
        "\n"
      ]
    },
    {
      "cell_type": "code",
      "metadata": {
        "colab": {
          "base_uri": "https://localhost:8080/"
        },
        "id": "CmW2cEyPwadn",
        "outputId": "c3c0e44b-968b-4da0-ef54-a0ac82afec31"
      },
      "source": [
        "ui_prod=str(input(\"ENTER THE PRODUCT ID:  \"))\n",
        "ui_quant=int(input(\"ENTER THE QUANTITY OF PRODUCT: \"))\n"
      ],
      "execution_count": 51,
      "outputs": [
        {
          "name": "stdout",
          "output_type": "stream",
          "text": [
            "ENTER THE PRODUCT ID:  111\n",
            "ENTER THE QUANTITY OF PRODUCT: 6\n"
          ]
        }
      ]
    },
    {
      "cell_type": "markdown",
      "metadata": {
        "id": "Zrf8BrfcxYaQ"
      },
      "source": [
        ""
      ]
    },
    {
      "cell_type": "code",
      "metadata": {
        "colab": {
          "base_uri": "https://localhost:8080/"
        },
        "id": "fSUh_FagxH-d",
        "outputId": "4d6d7908-b4e8-4cda-fc03-3d21d7ca931f"
      },
      "source": [
        "if ui_quant <= record[ui_prod][\"quantity\"]:\n",
        " print(\"Product name is : \",record[ui_prod][\"item\"])\n",
        " print(\"Price of the produc is: \",record[ui_prod][\"price\"])\n",
        " print(\"*************** YOUR TOTAL AMMOUNT TO PAY IS : \",record[ui_prod][\"price\"]*ui_quant,\"***********\")\n",
        "else:\n",
        "  print(ui_quant,\" number of items are not available please select number of items less than or equal to \", record[ui_prod][\"quantity\"])\n"
      ],
      "execution_count": 52,
      "outputs": [
        {
          "output_type": "stream",
          "name": "stdout",
          "text": [
            "6  number of items are not available please select number of items less than or equal to  2\n"
          ]
        }
      ]
    },
    {
      "cell_type": "markdown",
      "metadata": {
        "id": "FzCiSmeOuwzr"
      },
      "source": [
        "**UPDATING THE INVENTORY**\n"
      ]
    },
    {
      "cell_type": "code",
      "metadata": {
        "id": "yXdbb9oyu2X3"
      },
      "source": [
        "js=json.dumps(record)\n",
        "fd=open(\"record_json.ipynb\",\"w\")\n",
        "fd.write(js)\n",
        "fd.close()"
      ],
      "execution_count": 53,
      "outputs": []
    }
  ]
}