{
  "nbformat": 4,
  "nbformat_minor": 0,
  "metadata": {
    "colab": {
      "name": "sales.I.M.S",
      "provenance": [],
      "collapsed_sections": []
    },
    "kernelspec": {
      "name": "python3",
      "display_name": "Python 3"
    },
    "language_info": {
      "name": "python"
    }
  },
  "cells": [
    {
      "cell_type": "markdown",
      "metadata": {
        "id": "3JNalkwXqg2a"
      },
      "source": [
        "**PURACHASING AND ADDING RECORD TO SALES FILE **"
      ]
    },
    {
      "cell_type": "code",
      "metadata": {
        "id": "ul8qarde32us"
      },
      "source": [
        "import json\n",
        "fd=open(\"record_json.ipynb\",\"r\")\n",
        "r=fd.read()\n",
        "fd.close()\n",
        "record=json.loads(r)"
      ],
      "execution_count": 54,
      "outputs": []
    },
    {
      "cell_type": "code",
      "metadata": {
        "colab": {
          "base_uri": "https://localhost:8080/"
        },
        "id": "O3DMNFx4BiFD",
        "outputId": "1118cfc1-f03c-4f5d-9924-a97ebfc10465"
      },
      "source": [
        "record"
      ],
      "execution_count": 55,
      "outputs": [
        {
          "output_type": "execute_result",
          "data": {
            "text/plain": [
              "{'101': {'category': 'chocolate',\n",
              "  'item': 'dairymilk(s)',\n",
              "  'price': 20,\n",
              "  'quantity': 10,\n",
              "  'rating': 7},\n",
              " '102': {'category': 'chocolate',\n",
              "  'item': 'dairymilk(m)',\n",
              "  'price': 40,\n",
              "  'quantity': 100,\n",
              "  'rating': 8},\n",
              " '103': {'category': 'chocolate',\n",
              "  'item': 'dairymilk(l)',\n",
              "  'price': 100,\n",
              "  'quantity': 50,\n",
              "  'rating': 8},\n",
              " '104': {'category': 'chocolate',\n",
              "  'item': 'barone(s)',\n",
              "  'price': 10,\n",
              "  'quantity': 200,\n",
              "  'rating': 6},\n",
              " '105': {'category': 'chocolate',\n",
              "  'item': 'barone(m)',\n",
              "  'price': 40,\n",
              "  'quantity': 75,\n",
              "  'rating': 7},\n",
              " '106': {'category': 'chocolate',\n",
              "  'item': 'barone(l)',\n",
              "  'price': 80,\n",
              "  'quantity': 50,\n",
              "  'rating': 8},\n",
              " '107': {'category': 'shampoo',\n",
              "  'item': 'clinicplus',\n",
              "  'price': 1,\n",
              "  'quantity': 500,\n",
              "  'rating': 6},\n",
              " '108': {'category': 'shampoo',\n",
              "  'item': 'clinicplusbottle',\n",
              "  'price': 150,\n",
              "  'quantity': 50,\n",
              "  'rating': 6},\n",
              " '109': {'category': 'soap',\n",
              "  'item': 'dettolsoap',\n",
              "  'price': 20,\n",
              "  'quantity': 100,\n",
              "  'rating': 9},\n",
              " '110': {'category': 'handwash',\n",
              "  'item': 'dettolhandwash',\n",
              "  'price': 80,\n",
              "  'quantity': 30,\n",
              "  'rating': 9}}"
            ]
          },
          "metadata": {},
          "execution_count": 55
        }
      ]
    },
    {
      "cell_type": "code",
      "metadata": {
        "id": "yOp45fuH37sy"
      },
      "source": [
        "initial_sales_count = {\"n_sales\" : 0}\n",
        "data = json.dumps(initial_sales_count)\n",
        "\n",
        "fp = open(\"sales_json.ipynb\", 'w')\n",
        "fp.write(data)\n",
        "fp.close()"
      ],
      "execution_count": 59,
      "outputs": []
    },
    {
      "cell_type": "code",
      "metadata": {
        "id": "Z9sFFMurq3be"
      },
      "source": [
        "#IMPORTING TIME"
      ],
      "execution_count": null,
      "outputs": []
    },
    {
      "cell_type": "code",
      "metadata": {
        "colab": {
          "base_uri": "https://localhost:8080/"
        },
        "id": "LACTSbyYq8Qh",
        "outputId": "df5d7663-5370-4951-c51e-0eca95bde3e7"
      },
      "source": [
        "import datetime\n",
        "\n",
        "x = datetime.datetime.now()\n",
        "print(x)"
      ],
      "execution_count": 4,
      "outputs": [
        {
          "output_type": "stream",
          "name": "stdout",
          "text": [
            "2021-09-06 05:57:24.585015\n"
          ]
        }
      ]
    },
    {
      "cell_type": "code",
      "metadata": {
        "colab": {
          "base_uri": "https://localhost:8080/"
        },
        "id": "USzk5JuTsEjg",
        "outputId": "fb1d8143-5772-45fc-ec0a-fa51f0d35c2b"
      },
      "source": [
        "import json\n",
        "import time\n",
        "\n",
        "    \n",
        "records= json.loads(data)\n",
        "ui_prod=str(input(\"ENTER THE PRODUCT ID:  \"))\n",
        "ui_quant=int(input(\"ENTER THE QUANTITY OF PRODUCT: \"))\n",
        "\n",
        "if ui_quant <= record[ui_prod][\"quantity\"]:\n",
        "  print(\"**************    BILL    ***************\")\n",
        "  print(\"______________\")\n",
        "  print(\"Product name is : \",record[ui_prod][\"item\"])\n",
        "  print(\"Price of the produc is: \",record[ui_prod][\"price\"])\n",
        "  print(\"_________________________________________________\")\n",
        "  print(\"*************** YOUR TOTAL AMMOUNT TO PAY IS : \",record[ui_prod][\"price\"]*ui_quant,\"***********\")\n",
        "else:\n",
        "  print(ui_quant,\" number of items are not available please select number of items less than or equal to \", record[ui_prod][\"quantity\"])\n",
        "\n",
        "\n",
        "  \n",
        "js=json.dumps(record)\n",
        "fd=open(\"record_json.ipynb\",\"w\")\n",
        "fd.write(js)\n",
        "fd.close()\n",
        "    \n",
        " # updating the sales\n",
        "initial_sales_count = {\"n_sales\" : 0}\n",
        "data = json.dumps(initial_sales_count)\n",
        "\n",
        "fp = open(\"sales_json.ipynb\", 'w')\n",
        "fp.write(data)\n",
        "fp.close()\n",
        "sales_fp = open(\"sales_json.ipynb\", \"r\")\n",
        "data = sales_fp.read()\n",
        "sales_fp.close()\n",
        "\n",
        "sales = json.loads(data)\n",
        "\n",
        "sales['n_sales'] +=1\n",
        "i = sales['n_sales']\n",
        "\n",
        "sale = {'product id':ui_prod,\n",
        "        'name':record[ui_prod]['item'],\n",
        "        'amount': record[ui_prod][\"price\"]*ui_quant}\n",
        "          \n",
        "          \n",
        "sales[i] = sale\n",
        "     \n",
        "# updating in the sales.json file\n",
        "data = json.dumps(sales)\n",
        "\n",
        "sales_fp = open(\"sales_json.ipynb\", \"w\")\n",
        "sales_fp.write(data)\n",
        "sales_fp.close()\n",
        "   \n",
        "    \n",
        "   "
      ],
      "execution_count": 75,
      "outputs": [
        {
          "output_type": "stream",
          "name": "stdout",
          "text": [
            "ENTER THE PRODUCT ID:  101\n",
            "ENTER THE QUANTITY OF PRODUCT: 2\n",
            "**************    BILL    ***************\n",
            "______________\n",
            "Product name is :  dairymilk(s)\n",
            "Price of the produc is:  20\n",
            "_________________________________________________\n",
            "*************** YOUR TOTAL AMMOUNT TO PAY IS :  40 ***********\n"
          ]
        }
      ]
    },
    {
      "cell_type": "code",
      "metadata": {
        "id": "WFL_4t4vq8WN"
      },
      "source": [
        ""
      ],
      "execution_count": null,
      "outputs": []
    }
  ]
}